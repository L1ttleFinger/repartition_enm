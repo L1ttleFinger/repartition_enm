{
 "cells": [
  {
   "cell_type": "code",
   "execution_count": 1,
   "metadata": {},
   "outputs": [],
   "source": [
    "import pandas as pd\n",
    "import json\n",
    "import numpy as np\n",
    "from villes import Ville\n",
    "from collections import Counter\n",
    "import matplotlib.pyplot as plt"
   ]
  },
  {
   "cell_type": "code",
   "execution_count": 2,
   "metadata": {},
   "outputs": [
    {
     "data": {
      "text/html": [
       "<div>\n",
       "<style scoped>\n",
       "    .dataframe tbody tr th:only-of-type {\n",
       "        vertical-align: middle;\n",
       "    }\n",
       "\n",
       "    .dataframe tbody tr th {\n",
       "        vertical-align: top;\n",
       "    }\n",
       "\n",
       "    .dataframe thead th {\n",
       "        text-align: right;\n",
       "    }\n",
       "</style>\n",
       "<table border=\"1\" class=\"dataframe\">\n",
       "  <thead>\n",
       "    <tr style=\"text-align: right;\">\n",
       "      <th></th>\n",
       "      <th>Ville</th>\n",
       "      <th>Postes</th>\n",
       "      <th>Couleur</th>\n",
       "    </tr>\n",
       "  </thead>\n",
       "  <tbody>\n",
       "    <tr>\n",
       "      <th>0</th>\n",
       "      <td>AGEN</td>\n",
       "      <td>2</td>\n",
       "      <td>noir</td>\n",
       "    </tr>\n",
       "    <tr>\n",
       "      <th>1</th>\n",
       "      <td>AIX-EN-PROVENCE</td>\n",
       "      <td>1</td>\n",
       "      <td>noir</td>\n",
       "    </tr>\n",
       "    <tr>\n",
       "      <th>2</th>\n",
       "      <td>AJACCIO</td>\n",
       "      <td>1</td>\n",
       "      <td>noir</td>\n",
       "    </tr>\n",
       "    <tr>\n",
       "      <th>3</th>\n",
       "      <td>ALBERTVILLE</td>\n",
       "      <td>1</td>\n",
       "      <td>vert</td>\n",
       "    </tr>\n",
       "    <tr>\n",
       "      <th>4</th>\n",
       "      <td>ALBI</td>\n",
       "      <td>2</td>\n",
       "      <td>vert</td>\n",
       "    </tr>\n",
       "  </tbody>\n",
       "</table>\n",
       "</div>"
      ],
      "text/plain": [
       "             Ville  Postes Couleur\n",
       "0             AGEN       2    noir\n",
       "1  AIX-EN-PROVENCE       1    noir\n",
       "2          AJACCIO       1    noir\n",
       "3      ALBERTVILLE       1    vert\n",
       "4             ALBI       2    vert"
      ]
     },
     "execution_count": 2,
     "metadata": {},
     "output_type": "execute_result"
    }
   ],
   "source": [
    "postes_df = pd.read_csv('config/postes_refactor.csv')\n",
    "postes_df.head()"
   ]
  },
  {
   "cell_type": "code",
   "execution_count": 9,
   "metadata": {},
   "outputs": [],
   "source": [
    "# df.to_csv('config/postes_refactor.csv', index=False)"
   ]
  },
  {
   "cell_type": "code",
   "execution_count": 3,
   "metadata": {},
   "outputs": [],
   "source": [
    "params_dict = {'Voeux max': 6, 'Noires max': 2, 'Noires ou rouges max': 4, 'Vertes min': 0}"
   ]
  },
  {
   "cell_type": "code",
   "execution_count": 11,
   "metadata": {},
   "outputs": [],
   "source": [
    "# with open('config/parametres_refactor.json', 'w') as fp:\n",
    "#     json.dump(params_dict, fp)"
   ]
  },
  {
   "cell_type": "code",
   "execution_count": 4,
   "metadata": {},
   "outputs": [
    {
     "data": {
      "text/html": [
       "<div>\n",
       "<style scoped>\n",
       "    .dataframe tbody tr th:only-of-type {\n",
       "        vertical-align: middle;\n",
       "    }\n",
       "\n",
       "    .dataframe tbody tr th {\n",
       "        vertical-align: top;\n",
       "    }\n",
       "\n",
       "    .dataframe thead th {\n",
       "        text-align: right;\n",
       "    }\n",
       "</style>\n",
       "<table border=\"1\" class=\"dataframe\">\n",
       "  <thead>\n",
       "    <tr style=\"text-align: right;\">\n",
       "      <th></th>\n",
       "      <th>id_auditeur</th>\n",
       "      <th>v_1</th>\n",
       "      <th>v_2</th>\n",
       "      <th>v_3</th>\n",
       "      <th>v_4</th>\n",
       "      <th>v_5</th>\n",
       "      <th>v_6</th>\n",
       "    </tr>\n",
       "  </thead>\n",
       "  <tbody>\n",
       "    <tr>\n",
       "      <th>0</th>\n",
       "      <td>1</td>\n",
       "      <td>ARRAS</td>\n",
       "      <td>SAINT-QUENTIN</td>\n",
       "      <td>BEAUVAIS</td>\n",
       "      <td>COMPIEGNE</td>\n",
       "      <td>BETHUNE</td>\n",
       "      <td>BOULOGNE-SUR-MER</td>\n",
       "    </tr>\n",
       "    <tr>\n",
       "      <th>1</th>\n",
       "      <td>2</td>\n",
       "      <td>CHALON-SUR-SAONE</td>\n",
       "      <td>MONTBELIARD</td>\n",
       "      <td>LONS-LE-SAUNIER</td>\n",
       "      <td>COLMAR</td>\n",
       "      <td>CHALONS-EN-CHAMPAGNE</td>\n",
       "      <td>VESOUL</td>\n",
       "    </tr>\n",
       "    <tr>\n",
       "      <th>2</th>\n",
       "      <td>3</td>\n",
       "      <td>BASTIA</td>\n",
       "      <td>BAYONNE</td>\n",
       "      <td>BEZIERS</td>\n",
       "      <td>SAINT-NAZAIRE</td>\n",
       "      <td>PERPIGNAN</td>\n",
       "      <td>DUNKERQUE</td>\n",
       "    </tr>\n",
       "    <tr>\n",
       "      <th>3</th>\n",
       "      <td>4</td>\n",
       "      <td>BOBIGNY</td>\n",
       "      <td>CRETEIL</td>\n",
       "      <td>PONTOISE</td>\n",
       "      <td>EVRY</td>\n",
       "      <td>BEAUVAIS</td>\n",
       "      <td>NANCY</td>\n",
       "    </tr>\n",
       "    <tr>\n",
       "      <th>4</th>\n",
       "      <td>5</td>\n",
       "      <td>MARSEILLE</td>\n",
       "      <td>LYON</td>\n",
       "      <td>TOULOUSE</td>\n",
       "      <td>CHARTRES</td>\n",
       "      <td>PAU</td>\n",
       "      <td>CLERMONT-FERRAND</td>\n",
       "    </tr>\n",
       "  </tbody>\n",
       "</table>\n",
       "</div>"
      ],
      "text/plain": [
       "   id_auditeur               v_1            v_2              v_3  \\\n",
       "0            1             ARRAS  SAINT-QUENTIN         BEAUVAIS   \n",
       "1            2  CHALON-SUR-SAONE    MONTBELIARD  LONS-LE-SAUNIER   \n",
       "2            3            BASTIA        BAYONNE          BEZIERS   \n",
       "3            4           BOBIGNY        CRETEIL         PONTOISE   \n",
       "4            5         MARSEILLE           LYON         TOULOUSE   \n",
       "\n",
       "             v_4                   v_5               v_6  \n",
       "0      COMPIEGNE               BETHUNE  BOULOGNE-SUR-MER  \n",
       "1         COLMAR  CHALONS-EN-CHAMPAGNE            VESOUL  \n",
       "2  SAINT-NAZAIRE             PERPIGNAN         DUNKERQUE  \n",
       "3           EVRY              BEAUVAIS             NANCY  \n",
       "4       CHARTRES                   PAU  CLERMONT-FERRAND  "
      ]
     },
     "execution_count": 4,
     "metadata": {},
     "output_type": "execute_result"
    }
   ],
   "source": [
    "sond_df = pd.read_csv('config/sondage_refactor.csv')\n",
    "sond_df.head()"
   ]
  },
  {
   "cell_type": "code",
   "execution_count": 13,
   "metadata": {},
   "outputs": [
    {
     "name": "stdout",
     "output_type": "stream",
     "text": [
      "<class 'pandas.core.frame.DataFrame'>\n",
      "RangeIndex: 303 entries, 0 to 302\n",
      "Data columns (total 7 columns):\n",
      " #   Column       Non-Null Count  Dtype \n",
      "---  ------       --------------  ----- \n",
      " 0   id_auditeur  303 non-null    int64 \n",
      " 1   v_1          303 non-null    object\n",
      " 2   v_2          303 non-null    object\n",
      " 3   v_3          303 non-null    object\n",
      " 4   v_4          303 non-null    object\n",
      " 5   v_5          303 non-null    object\n",
      " 6   v_6          303 non-null    object\n",
      "dtypes: int64(1), object(6)\n",
      "memory usage: 16.7+ KB\n"
     ]
    }
   ],
   "source": [
    "# sond_df.to_csv('config/sondage_refactor.csv', index=False)\n",
    "sond_df.info()"
   ]
  },
  {
   "cell_type": "code",
   "execution_count": 23,
   "metadata": {},
   "outputs": [],
   "source": [
    "sond2 = sond_df.copy()\n",
    "sond2.set_index('id_auditeur', inplace=True)\n",
    "sond2.loc[3, [f'v_{i}' for i in range(4, sond2.shape[1]+1)]] = np.nan\n",
    "sond2.head()\n",
    "# sond2.reset_index(inplace=True)\n",
    "sond3_df = sond2.sample(frac=1, random_state = 42).reset_index()"
   ]
  },
  {
   "cell_type": "code",
   "execution_count": 13,
   "metadata": {},
   "outputs": [
    {
     "data": {
      "text/html": [
       "<div>\n",
       "<style scoped>\n",
       "    .dataframe tbody tr th:only-of-type {\n",
       "        vertical-align: middle;\n",
       "    }\n",
       "\n",
       "    .dataframe tbody tr th {\n",
       "        vertical-align: top;\n",
       "    }\n",
       "\n",
       "    .dataframe thead th {\n",
       "        text-align: right;\n",
       "    }\n",
       "</style>\n",
       "<table border=\"1\" class=\"dataframe\">\n",
       "  <thead>\n",
       "    <tr style=\"text-align: right;\">\n",
       "      <th></th>\n",
       "      <th>id_auditeur</th>\n",
       "      <th>v_1</th>\n",
       "      <th>v_2</th>\n",
       "      <th>v_3</th>\n",
       "      <th>v_4</th>\n",
       "      <th>v_5</th>\n",
       "      <th>v_6</th>\n",
       "    </tr>\n",
       "  </thead>\n",
       "  <tbody>\n",
       "    <tr>\n",
       "      <th>0</th>\n",
       "      <td>180</td>\n",
       "      <td>LILLE</td>\n",
       "      <td>LE HAVRE</td>\n",
       "      <td>STRASBOURG</td>\n",
       "      <td>PARIS</td>\n",
       "      <td>NANCY</td>\n",
       "      <td>NaN</td>\n",
       "    </tr>\n",
       "    <tr>\n",
       "      <th>1</th>\n",
       "      <td>229</td>\n",
       "      <td>MARSEILLE</td>\n",
       "      <td>AIX-EN-PROVENCE</td>\n",
       "      <td>MONTPELLIER</td>\n",
       "      <td>TOULOUSE</td>\n",
       "      <td>PERPIGNAN</td>\n",
       "      <td>PAU</td>\n",
       "    </tr>\n",
       "    <tr>\n",
       "      <th>2</th>\n",
       "      <td>112</td>\n",
       "      <td>CRETEIL</td>\n",
       "      <td>MARSEILLE</td>\n",
       "      <td>TOULOUSE</td>\n",
       "      <td>LYON</td>\n",
       "      <td>NANCY</td>\n",
       "      <td>BEAUVAIS</td>\n",
       "    </tr>\n",
       "    <tr>\n",
       "      <th>3</th>\n",
       "      <td>247</td>\n",
       "      <td>PARIS</td>\n",
       "      <td>LILLE</td>\n",
       "      <td>STRASBOURG</td>\n",
       "      <td>TOULOUSE</td>\n",
       "      <td>SAINT-NAZAIRE</td>\n",
       "      <td>BOULOGNE-SUR-MER</td>\n",
       "    </tr>\n",
       "    <tr>\n",
       "      <th>4</th>\n",
       "      <td>61</td>\n",
       "      <td>BREST</td>\n",
       "      <td>LORIENT</td>\n",
       "      <td>QUIMPER</td>\n",
       "      <td>SAINT-NAZAIRE</td>\n",
       "      <td>CLERMONT-FERRAND</td>\n",
       "      <td>BAYONNE</td>\n",
       "    </tr>\n",
       "  </tbody>\n",
       "</table>\n",
       "</div>"
      ],
      "text/plain": [
       "   id_auditeur        v_1              v_2          v_3            v_4  \\\n",
       "0          180      LILLE         LE HAVRE   STRASBOURG          PARIS   \n",
       "1          229  MARSEILLE  AIX-EN-PROVENCE  MONTPELLIER       TOULOUSE   \n",
       "2          112    CRETEIL        MARSEILLE     TOULOUSE           LYON   \n",
       "3          247      PARIS            LILLE   STRASBOURG       TOULOUSE   \n",
       "4           61      BREST          LORIENT      QUIMPER  SAINT-NAZAIRE   \n",
       "\n",
       "                v_5               v_6  \n",
       "0             NANCY               NaN  \n",
       "1         PERPIGNAN               PAU  \n",
       "2             NANCY          BEAUVAIS  \n",
       "3     SAINT-NAZAIRE  BOULOGNE-SUR-MER  \n",
       "4  CLERMONT-FERRAND           BAYONNE  "
      ]
     },
     "execution_count": 13,
     "metadata": {},
     "output_type": "execute_result"
    }
   ],
   "source": [
    "sond3_df.iloc[0, 6] = np.nan\n",
    "sond3_df.head()"
   ]
  },
  {
   "cell_type": "code",
   "execution_count": 19,
   "metadata": {},
   "outputs": [
    {
     "data": {
      "text/plain": [
       "np.int64(180)"
      ]
     },
     "execution_count": 19,
     "metadata": {},
     "output_type": "execute_result"
    }
   ],
   "source": [
    "sond3_df.loc[0, 'id_auditeur']"
   ]
  },
  {
   "cell_type": "code",
   "execution_count": 38,
   "metadata": {},
   "outputs": [
    {
     "data": {
      "text/html": [
       "<div>\n",
       "<style scoped>\n",
       "    .dataframe tbody tr th:only-of-type {\n",
       "        vertical-align: middle;\n",
       "    }\n",
       "\n",
       "    .dataframe tbody tr th {\n",
       "        vertical-align: top;\n",
       "    }\n",
       "\n",
       "    .dataframe thead th {\n",
       "        text-align: right;\n",
       "    }\n",
       "</style>\n",
       "<table border=\"1\" class=\"dataframe\">\n",
       "  <thead>\n",
       "    <tr style=\"text-align: right;\">\n",
       "      <th></th>\n",
       "      <th>v_1</th>\n",
       "      <th>v_2</th>\n",
       "      <th>v_3</th>\n",
       "      <th>v_4</th>\n",
       "      <th>v_5</th>\n",
       "      <th>v_6</th>\n",
       "      <th>assignation</th>\n",
       "      <th>voeu_realise</th>\n",
       "    </tr>\n",
       "    <tr>\n",
       "      <th>id_auditeur</th>\n",
       "      <th></th>\n",
       "      <th></th>\n",
       "      <th></th>\n",
       "      <th></th>\n",
       "      <th></th>\n",
       "      <th></th>\n",
       "      <th></th>\n",
       "      <th></th>\n",
       "    </tr>\n",
       "  </thead>\n",
       "  <tbody>\n",
       "    <tr>\n",
       "      <th>1</th>\n",
       "      <td>ARRAS</td>\n",
       "      <td>SAINT-QUENTIN</td>\n",
       "      <td>BEAUVAIS</td>\n",
       "      <td>COMPIEGNE</td>\n",
       "      <td>BETHUNE</td>\n",
       "      <td>BOULOGNE-SUR-MER</td>\n",
       "      <td></td>\n",
       "      <td>NaN</td>\n",
       "    </tr>\n",
       "    <tr>\n",
       "      <th>2</th>\n",
       "      <td>CHALON-SUR-SAONE</td>\n",
       "      <td>MONTBELIARD</td>\n",
       "      <td>LONS-LE-SAUNIER</td>\n",
       "      <td>COLMAR</td>\n",
       "      <td>CHALONS-EN-CHAMPAGNE</td>\n",
       "      <td>VESOUL</td>\n",
       "      <td>PARIS</td>\n",
       "      <td>NaN</td>\n",
       "    </tr>\n",
       "    <tr>\n",
       "      <th>3</th>\n",
       "      <td>BASTIA</td>\n",
       "      <td>BAYONNE</td>\n",
       "      <td>BEZIERS</td>\n",
       "      <td>NaN</td>\n",
       "      <td>NaN</td>\n",
       "      <td>NaN</td>\n",
       "      <td></td>\n",
       "      <td>NaN</td>\n",
       "    </tr>\n",
       "    <tr>\n",
       "      <th>4</th>\n",
       "      <td>BOBIGNY</td>\n",
       "      <td>CRETEIL</td>\n",
       "      <td>PONTOISE</td>\n",
       "      <td>EVRY</td>\n",
       "      <td>BEAUVAIS</td>\n",
       "      <td>NANCY</td>\n",
       "      <td></td>\n",
       "      <td>NaN</td>\n",
       "    </tr>\n",
       "    <tr>\n",
       "      <th>5</th>\n",
       "      <td>MARSEILLE</td>\n",
       "      <td>LYON</td>\n",
       "      <td>TOULOUSE</td>\n",
       "      <td>CHARTRES</td>\n",
       "      <td>PAU</td>\n",
       "      <td>CLERMONT-FERRAND</td>\n",
       "      <td></td>\n",
       "      <td>NaN</td>\n",
       "    </tr>\n",
       "  </tbody>\n",
       "</table>\n",
       "</div>"
      ],
      "text/plain": [
       "                          v_1            v_2              v_3        v_4  \\\n",
       "id_auditeur                                                                \n",
       "1                       ARRAS  SAINT-QUENTIN         BEAUVAIS  COMPIEGNE   \n",
       "2            CHALON-SUR-SAONE    MONTBELIARD  LONS-LE-SAUNIER     COLMAR   \n",
       "3                      BASTIA        BAYONNE          BEZIERS        NaN   \n",
       "4                     BOBIGNY        CRETEIL         PONTOISE       EVRY   \n",
       "5                   MARSEILLE           LYON         TOULOUSE   CHARTRES   \n",
       "\n",
       "                              v_5               v_6 assignation  voeu_realise  \n",
       "id_auditeur                                                                    \n",
       "1                         BETHUNE  BOULOGNE-SUR-MER                       NaN  \n",
       "2            CHALONS-EN-CHAMPAGNE            VESOUL       PARIS           NaN  \n",
       "3                             NaN               NaN                       NaN  \n",
       "4                        BEAUVAIS             NANCY                       NaN  \n",
       "5                             PAU  CLERMONT-FERRAND                       NaN  "
      ]
     },
     "execution_count": 38,
     "metadata": {},
     "output_type": "execute_result"
    }
   ],
   "source": [
    "sond2['assignation'] = ''\n",
    "sond2['voeu_realise'] = np.nan\n",
    "sond2.loc[2, 'assignation'] = 'PARIS'\n",
    "sond2.head()"
   ]
  },
  {
   "cell_type": "code",
   "execution_count": 47,
   "metadata": {},
   "outputs": [
    {
     "data": {
      "text/plain": [
       "array([], dtype=int64)"
      ]
     },
     "execution_count": 47,
     "metadata": {},
     "output_type": "execute_result"
    }
   ],
   "source": [
    "test = sond2.loc[3][:-2].values\n",
    "np.where(test == 'PARIS')[0]"
   ]
  },
  {
   "cell_type": "code",
   "execution_count": 17,
   "metadata": {},
   "outputs": [
    {
     "name": "stdout",
     "output_type": "stream",
     "text": [
      "5\n",
      "6\n",
      "6\n",
      "6\n",
      "6\n"
     ]
    }
   ],
   "source": [
    "for index, row in sond3_df.head().iterrows():\n",
    "    aud = row['id_auditeur']\n",
    "    print(len(row[1:].dropna()))"
   ]
  },
  {
   "cell_type": "code",
   "execution_count": 36,
   "metadata": {},
   "outputs": [
    {
     "data": {
      "text/plain": [
       "{'BEAUVAIS': 2,\n",
       " 'LONS-LE-SAUNIER': 3,\n",
       " 'BEZIERS': 3,\n",
       " 'PONTOISE': 16,\n",
       " 'TOULOUSE': 7,\n",
       " 'PERIGUEUX': 4,\n",
       " 'SENLIS': 1,\n",
       " 'MARSEILLE': 9,\n",
       " 'ROUEN': 9,\n",
       " 'TOULON': 7,\n",
       " 'BOBIGNY': 3,\n",
       " 'CLERMONT-FERRAND': 2,\n",
       " 'DIJON': 4,\n",
       " 'COLMAR': 4,\n",
       " 'LE HAVRE': 4,\n",
       " 'CHALON-SUR-SAONE': 2,\n",
       " 'DRAGUIGNAN': 4,\n",
       " 'MULHOUSE': 4,\n",
       " 'MEAUX': 3,\n",
       " 'ARRAS': 2,\n",
       " 'EVRY': 8,\n",
       " 'REIMS': 3,\n",
       " 'CARPENTRAS': 4,\n",
       " 'SAINTES': 5,\n",
       " 'STRASBOURG': 4,\n",
       " 'NANCY': 5,\n",
       " 'CHARTRES': 2,\n",
       " 'AGEN': 2,\n",
       " 'PAU': 5,\n",
       " 'VESOUL': 1,\n",
       " 'LILLE': 12,\n",
       " 'AVIGNON': 4,\n",
       " 'SAINT-MALO': 1,\n",
       " 'BAYONNE': 2,\n",
       " 'SAINT-NAZAIRE': 1,\n",
       " 'CHALONS-EN-CHAMPAGNE': 3,\n",
       " 'ARGENTAN': 1,\n",
       " 'NIMES': 4,\n",
       " 'ANNECY': 1,\n",
       " 'RENNES': 7,\n",
       " 'AMIENS': 4,\n",
       " 'BASTIA': 2,\n",
       " 'METZ': 4,\n",
       " 'POITIERS': 10,\n",
       " 'QUIMPER': 1,\n",
       " 'AIX-EN-PROVENCE': 6,\n",
       " 'MONT-DE-MARSAN': 1,\n",
       " 'THONON-LES-BAINS': 1,\n",
       " 'CRETEIL': 4,\n",
       " 'BREST': 3,\n",
       " 'LE MANS': 6,\n",
       " 'GRENOBLE': 3,\n",
       " 'BOURG-EN-BRESSE': 4,\n",
       " 'GAP': 1,\n",
       " 'DUNKERQUE': 3,\n",
       " 'LYON': 6,\n",
       " 'NICE': 7,\n",
       " 'PERPIGNAN': 4,\n",
       " 'SARREGUEMINES': 2,\n",
       " 'VALENCE': 2,\n",
       " 'SAINT-ETIENNE': 5,\n",
       " 'TARASCON': 1,\n",
       " 'BERGERAC': 1,\n",
       " 'MONTAUBAN': 1,\n",
       " 'VILLEFRANCHE-SUR-SAONE': 1,\n",
       " 'DOUAI': 2,\n",
       " 'NARBONNE': 3,\n",
       " 'BETHUNE': 2,\n",
       " 'SOISSONS': 1,\n",
       " 'NANTERRE': 3,\n",
       " 'ORLEANS': 4,\n",
       " 'MACON': 1,\n",
       " 'TROYES': 2,\n",
       " 'BELFORT': 2,\n",
       " 'MONTPELLIER': 3,\n",
       " 'ANGERS': 3,\n",
       " 'VALENCIENNES': 2,\n",
       " 'LAVAL': 2,\n",
       " 'ALENCON': 1,\n",
       " 'CAEN': 4,\n",
       " 'PRIVAS': 2,\n",
       " 'EVREUX': 1,\n",
       " 'LA ROCHE-SUR-YON': 1,\n",
       " 'BESANCON': 3,\n",
       " 'AUXERRE': 2,\n",
       " 'GRASSE': 1,\n",
       " 'BOULOGNE-SUR-MER': 2,\n",
       " 'TOURS': 1,\n",
       " 'ANGOULEME': 1,\n",
       " 'SAVERNE': 1,\n",
       " 'VIENNE': 1,\n",
       " 'LA ROCHELLE': 1}"
      ]
     },
     "execution_count": 36,
     "metadata": {},
     "output_type": "execute_result"
    }
   ],
   "source": [
    "dict(Counter(sond2['v_3'].dropna().values))"
   ]
  },
  {
   "cell_type": "code",
   "execution_count": 62,
   "metadata": {},
   "outputs": [
    {
     "data": {
      "text/html": [
       "<div>\n",
       "<style scoped>\n",
       "    .dataframe tbody tr th:only-of-type {\n",
       "        vertical-align: middle;\n",
       "    }\n",
       "\n",
       "    .dataframe tbody tr th {\n",
       "        vertical-align: top;\n",
       "    }\n",
       "\n",
       "    .dataframe thead th {\n",
       "        text-align: right;\n",
       "    }\n",
       "</style>\n",
       "<table border=\"1\" class=\"dataframe\">\n",
       "  <thead>\n",
       "    <tr style=\"text-align: right;\">\n",
       "      <th></th>\n",
       "      <th>id_auditeur</th>\n",
       "      <th>v_max</th>\n",
       "    </tr>\n",
       "  </thead>\n",
       "  <tbody>\n",
       "    <tr>\n",
       "      <th>0</th>\n",
       "      <td>1</td>\n",
       "      <td>6</td>\n",
       "    </tr>\n",
       "    <tr>\n",
       "      <th>1</th>\n",
       "      <td>2</td>\n",
       "      <td>6</td>\n",
       "    </tr>\n",
       "    <tr>\n",
       "      <th>2</th>\n",
       "      <td>3</td>\n",
       "      <td>6</td>\n",
       "    </tr>\n",
       "    <tr>\n",
       "      <th>3</th>\n",
       "      <td>4</td>\n",
       "      <td>6</td>\n",
       "    </tr>\n",
       "    <tr>\n",
       "      <th>4</th>\n",
       "      <td>5</td>\n",
       "      <td>6</td>\n",
       "    </tr>\n",
       "  </tbody>\n",
       "</table>\n",
       "</div>"
      ],
      "text/plain": [
       "   id_auditeur  v_max\n",
       "0            1      6\n",
       "1            2      6\n",
       "2            3      6\n",
       "3            4      6\n",
       "4            5      6"
      ]
     },
     "execution_count": 62,
     "metadata": {},
     "output_type": "execute_result"
    }
   ],
   "source": [
    "cas_part_df = pd.read_csv('config/cas_particuliers.csv')\n",
    "cas_part_df.head()"
   ]
  },
  {
   "cell_type": "code",
   "execution_count": 63,
   "metadata": {},
   "outputs": [
    {
     "data": {
      "text/html": [
       "<div>\n",
       "<style scoped>\n",
       "    .dataframe tbody tr th:only-of-type {\n",
       "        vertical-align: middle;\n",
       "    }\n",
       "\n",
       "    .dataframe tbody tr th {\n",
       "        vertical-align: top;\n",
       "    }\n",
       "\n",
       "    .dataframe thead th {\n",
       "        text-align: right;\n",
       "    }\n",
       "</style>\n",
       "<table border=\"1\" class=\"dataframe\">\n",
       "  <thead>\n",
       "    <tr style=\"text-align: right;\">\n",
       "      <th></th>\n",
       "      <th>id_auditeur</th>\n",
       "      <th>v_max</th>\n",
       "    </tr>\n",
       "  </thead>\n",
       "  <tbody>\n",
       "    <tr>\n",
       "      <th>0</th>\n",
       "      <td>1</td>\n",
       "      <td>6</td>\n",
       "    </tr>\n",
       "    <tr>\n",
       "      <th>1</th>\n",
       "      <td>2</td>\n",
       "      <td>6</td>\n",
       "    </tr>\n",
       "    <tr>\n",
       "      <th>2</th>\n",
       "      <td>3</td>\n",
       "      <td>10</td>\n",
       "    </tr>\n",
       "    <tr>\n",
       "      <th>3</th>\n",
       "      <td>4</td>\n",
       "      <td>6</td>\n",
       "    </tr>\n",
       "    <tr>\n",
       "      <th>4</th>\n",
       "      <td>5</td>\n",
       "      <td>6</td>\n",
       "    </tr>\n",
       "  </tbody>\n",
       "</table>\n",
       "</div>"
      ],
      "text/plain": [
       "   id_auditeur  v_max\n",
       "0            1      6\n",
       "1            2      6\n",
       "2            3     10\n",
       "3            4      6\n",
       "4            5      6"
      ]
     },
     "execution_count": 63,
     "metadata": {},
     "output_type": "execute_result"
    }
   ],
   "source": [
    "cas_part_df.loc[cas_part_df['id_auditeur'] == 3, 'v_max'] = 10\n",
    "cas_part_df.head()"
   ]
  },
  {
   "cell_type": "code",
   "execution_count": 64,
   "metadata": {},
   "outputs": [
    {
     "data": {
      "text/plain": [
       "0        7\n",
       "1        8\n",
       "2       13\n",
       "3       10\n",
       "4       11\n",
       "      ... \n",
       "298    305\n",
       "299    306\n",
       "300    307\n",
       "301    308\n",
       "302    309\n",
       "Length: 303, dtype: int64"
      ]
     },
     "execution_count": 64,
     "metadata": {},
     "output_type": "execute_result"
    }
   ],
   "source": [
    "cas_part_df[['id_auditeur', 'v_max']].sum(axis=1)"
   ]
  },
  {
   "cell_type": "code",
   "execution_count": 16,
   "metadata": {},
   "outputs": [],
   "source": [
    "# cas_part_df.to_csv('config/cas_part.csv', index=False)"
   ]
  },
  {
   "cell_type": "code",
   "execution_count": 55,
   "metadata": {},
   "outputs": [
    {
     "data": {
      "text/html": [
       "<div>\n",
       "<style scoped>\n",
       "    .dataframe tbody tr th:only-of-type {\n",
       "        vertical-align: middle;\n",
       "    }\n",
       "\n",
       "    .dataframe tbody tr th {\n",
       "        vertical-align: top;\n",
       "    }\n",
       "\n",
       "    .dataframe thead th {\n",
       "        text-align: right;\n",
       "    }\n",
       "</style>\n",
       "<table border=\"1\" class=\"dataframe\">\n",
       "  <thead>\n",
       "    <tr style=\"text-align: right;\">\n",
       "      <th></th>\n",
       "      <th>id_auditeur</th>\n",
       "      <th>v_1</th>\n",
       "      <th>v_2</th>\n",
       "      <th>v_3</th>\n",
       "      <th>v_4</th>\n",
       "      <th>v_5</th>\n",
       "      <th>v_6</th>\n",
       "      <th>assignation</th>\n",
       "      <th>voeu_realise</th>\n",
       "    </tr>\n",
       "  </thead>\n",
       "  <tbody>\n",
       "    <tr>\n",
       "      <th>0</th>\n",
       "      <td>1</td>\n",
       "      <td>ARRAS</td>\n",
       "      <td>SAINT-QUENTIN</td>\n",
       "      <td>BEAUVAIS</td>\n",
       "      <td>COMPIEGNE</td>\n",
       "      <td>BETHUNE</td>\n",
       "      <td>BOULOGNE-SUR-MER</td>\n",
       "      <td>SAINT-QUENTIN</td>\n",
       "      <td>2</td>\n",
       "    </tr>\n",
       "    <tr>\n",
       "      <th>1</th>\n",
       "      <td>2</td>\n",
       "      <td>CHALON-SUR-SAONE</td>\n",
       "      <td>MONTBELIARD</td>\n",
       "      <td>LONS-LE-SAUNIER</td>\n",
       "      <td>COLMAR</td>\n",
       "      <td>CHALONS-EN-CHAMPAGNE</td>\n",
       "      <td>VESOUL</td>\n",
       "      <td>CHALON-SUR-SAONE</td>\n",
       "      <td>1</td>\n",
       "    </tr>\n",
       "    <tr>\n",
       "      <th>2</th>\n",
       "      <td>3</td>\n",
       "      <td>BASTIA</td>\n",
       "      <td>BAYONNE</td>\n",
       "      <td>BEZIERS</td>\n",
       "      <td>SAINT-NAZAIRE</td>\n",
       "      <td>PERPIGNAN</td>\n",
       "      <td>DUNKERQUE</td>\n",
       "      <td>BEZIERS</td>\n",
       "      <td>3</td>\n",
       "    </tr>\n",
       "    <tr>\n",
       "      <th>3</th>\n",
       "      <td>4</td>\n",
       "      <td>BOBIGNY</td>\n",
       "      <td>CRETEIL</td>\n",
       "      <td>PONTOISE</td>\n",
       "      <td>EVRY</td>\n",
       "      <td>BEAUVAIS</td>\n",
       "      <td>NANCY</td>\n",
       "      <td>BOBIGNY</td>\n",
       "      <td>1</td>\n",
       "    </tr>\n",
       "    <tr>\n",
       "      <th>4</th>\n",
       "      <td>5</td>\n",
       "      <td>MARSEILLE</td>\n",
       "      <td>LYON</td>\n",
       "      <td>TOULOUSE</td>\n",
       "      <td>CHARTRES</td>\n",
       "      <td>PAU</td>\n",
       "      <td>CLERMONT-FERRAND</td>\n",
       "      <td>CHARTRES</td>\n",
       "      <td>4</td>\n",
       "    </tr>\n",
       "  </tbody>\n",
       "</table>\n",
       "</div>"
      ],
      "text/plain": [
       "   id_auditeur               v_1            v_2              v_3  \\\n",
       "0            1             ARRAS  SAINT-QUENTIN         BEAUVAIS   \n",
       "1            2  CHALON-SUR-SAONE    MONTBELIARD  LONS-LE-SAUNIER   \n",
       "2            3            BASTIA        BAYONNE          BEZIERS   \n",
       "3            4           BOBIGNY        CRETEIL         PONTOISE   \n",
       "4            5         MARSEILLE           LYON         TOULOUSE   \n",
       "\n",
       "             v_4                   v_5               v_6       assignation  \\\n",
       "0      COMPIEGNE               BETHUNE  BOULOGNE-SUR-MER     SAINT-QUENTIN   \n",
       "1         COLMAR  CHALONS-EN-CHAMPAGNE            VESOUL  CHALON-SUR-SAONE   \n",
       "2  SAINT-NAZAIRE             PERPIGNAN         DUNKERQUE           BEZIERS   \n",
       "3           EVRY              BEAUVAIS             NANCY           BOBIGNY   \n",
       "4       CHARTRES                   PAU  CLERMONT-FERRAND          CHARTRES   \n",
       "\n",
       "   voeu_realise  \n",
       "0             2  \n",
       "1             1  \n",
       "2             3  \n",
       "3             1  \n",
       "4             4  "
      ]
     },
     "execution_count": 55,
     "metadata": {},
     "output_type": "execute_result"
    }
   ],
   "source": [
    "res = pd.read_csv('resultats.csv')\n",
    "res.head()"
   ]
  },
  {
   "cell_type": "code",
   "execution_count": 5,
   "metadata": {},
   "outputs": [
    {
     "data": {
      "text/plain": [
       "<Axes: ylabel='count'>"
      ]
     },
     "execution_count": 5,
     "metadata": {},
     "output_type": "execute_result"
    },
    {
     "data": {
      "image/png": "[encoded data removed]",
      "text/plain": [
       "<Figure size 640x480 with 1 Axes>"
      ]
     },
     "metadata": {},
     "output_type": "display_data"
    }
   ],
   "source": [
    "res = pd.read_csv('resultats/resultats.csv')\n",
    "res['voeu_realise'].value_counts().plot.pie(autopct='%1.1f%%')"
   ]
  },
  {
   "cell_type": "code",
   "execution_count": 6,
   "metadata": {},
   "outputs": [
    {
     "data": {
      "text/html": [
       "<div>\n",
       "<style scoped>\n",
       "    .dataframe tbody tr th:only-of-type {\n",
       "        vertical-align: middle;\n",
       "    }\n",
       "\n",
       "    .dataframe tbody tr th {\n",
       "        vertical-align: top;\n",
       "    }\n",
       "\n",
       "    .dataframe thead th {\n",
       "        text-align: right;\n",
       "    }\n",
       "</style>\n",
       "<table border=\"1\" class=\"dataframe\">\n",
       "  <thead>\n",
       "    <tr style=\"text-align: right;\">\n",
       "      <th></th>\n",
       "      <th>Ville</th>\n",
       "      <th>Postes</th>\n",
       "      <th>Couleur</th>\n",
       "      <th>nombre_voeux_1</th>\n",
       "      <th>nombre_voeux_2</th>\n",
       "      <th>nombre_voeux_3</th>\n",
       "      <th>nombre_voeux_4</th>\n",
       "      <th>nombre_voeux_5</th>\n",
       "      <th>nombre_voeux_6</th>\n",
       "      <th>nombre_voeux_7</th>\n",
       "      <th>total_demandes</th>\n",
       "    </tr>\n",
       "  </thead>\n",
       "  <tbody>\n",
       "    <tr>\n",
       "      <th>0</th>\n",
       "      <td>AGEN</td>\n",
       "      <td>2</td>\n",
       "      <td>noir</td>\n",
       "      <td>1.0</td>\n",
       "      <td>6.0</td>\n",
       "      <td>2.0</td>\n",
       "      <td>1.0</td>\n",
       "      <td>NaN</td>\n",
       "      <td>NaN</td>\n",
       "      <td>NaN</td>\n",
       "      <td>10.0</td>\n",
       "    </tr>\n",
       "    <tr>\n",
       "      <th>1</th>\n",
       "      <td>AIX-EN-PROVENCE</td>\n",
       "      <td>1</td>\n",
       "      <td>noir</td>\n",
       "      <td>2.0</td>\n",
       "      <td>5.0</td>\n",
       "      <td>6.0</td>\n",
       "      <td>1.0</td>\n",
       "      <td>NaN</td>\n",
       "      <td>NaN</td>\n",
       "      <td>NaN</td>\n",
       "      <td>14.0</td>\n",
       "    </tr>\n",
       "    <tr>\n",
       "      <th>2</th>\n",
       "      <td>AJACCIO</td>\n",
       "      <td>1</td>\n",
       "      <td>noir</td>\n",
       "      <td>3.0</td>\n",
       "      <td>2.0</td>\n",
       "      <td>NaN</td>\n",
       "      <td>1.0</td>\n",
       "      <td>NaN</td>\n",
       "      <td>NaN</td>\n",
       "      <td>NaN</td>\n",
       "      <td>6.0</td>\n",
       "    </tr>\n",
       "    <tr>\n",
       "      <th>3</th>\n",
       "      <td>ALBERTVILLE</td>\n",
       "      <td>1</td>\n",
       "      <td>vert</td>\n",
       "      <td>NaN</td>\n",
       "      <td>NaN</td>\n",
       "      <td>NaN</td>\n",
       "      <td>1.0</td>\n",
       "      <td>NaN</td>\n",
       "      <td>3.0</td>\n",
       "      <td>NaN</td>\n",
       "      <td>4.0</td>\n",
       "    </tr>\n",
       "    <tr>\n",
       "      <th>4</th>\n",
       "      <td>ALBI</td>\n",
       "      <td>2</td>\n",
       "      <td>vert</td>\n",
       "      <td>2.0</td>\n",
       "      <td>NaN</td>\n",
       "      <td>NaN</td>\n",
       "      <td>2.0</td>\n",
       "      <td>2.0</td>\n",
       "      <td>3.0</td>\n",
       "      <td>NaN</td>\n",
       "      <td>9.0</td>\n",
       "    </tr>\n",
       "  </tbody>\n",
       "</table>\n",
       "</div>"
      ],
      "text/plain": [
       "             Ville  Postes Couleur  nombre_voeux_1  nombre_voeux_2  \\\n",
       "0             AGEN       2    noir             1.0             6.0   \n",
       "1  AIX-EN-PROVENCE       1    noir             2.0             5.0   \n",
       "2          AJACCIO       1    noir             3.0             2.0   \n",
       "3      ALBERTVILLE       1    vert             NaN             NaN   \n",
       "4             ALBI       2    vert             2.0             NaN   \n",
       "\n",
       "   nombre_voeux_3  nombre_voeux_4  nombre_voeux_5  nombre_voeux_6  \\\n",
       "0             2.0             1.0             NaN             NaN   \n",
       "1             6.0             1.0             NaN             NaN   \n",
       "2             NaN             1.0             NaN             NaN   \n",
       "3             NaN             1.0             NaN             3.0   \n",
       "4             NaN             2.0             2.0             3.0   \n",
       "\n",
       "   nombre_voeux_7  total_demandes  \n",
       "0             NaN            10.0  \n",
       "1             NaN            14.0  \n",
       "2             NaN             6.0  \n",
       "3             NaN             4.0  \n",
       "4             NaN             9.0  "
      ]
     },
     "execution_count": 6,
     "metadata": {},
     "output_type": "execute_result"
    }
   ],
   "source": [
    "dis = pd.read_csv('resultats/distribution_voeux.csv')\n",
    "dis.head()"
   ]
  },
  {
   "cell_type": "code",
   "execution_count": 7,
   "metadata": {},
   "outputs": [
    {
     "data": {
      "image/png": "[encoded data removed]",
      "text/plain": [
       "<Figure size 1000x500 with 1 Axes>"
      ]
     },
     "metadata": {},
     "output_type": "display_data"
    }
   ],
   "source": [
    "ax = dis.sort_values(by='total_demandes', ascending=False).set_index('Ville').head(30)[['total_demandes', 'Postes']].plot.bar(figsize=(10,5))\n",
    "ax.bar_label(ax.containers[0])\n",
    "plt.show()"
   ]
  },
  {
   "cell_type": "code",
   "execution_count": 8,
   "metadata": {},
   "outputs": [
    {
     "data": {
      "image/png": "[encoded data removed]",
      "text/plain": [
       "<Figure size 1000x500 with 1 Axes>"
      ]
     },
     "metadata": {},
     "output_type": "display_data"
    }
   ],
   "source": [
    "ax = dis.sort_values(by='nombre_voeux_1', ascending=False).set_index('Ville').head(30)[['nombre_voeux_1', 'Postes']].plot.bar(figsize=(10,5))\n",
    "ax.bar_label(ax.containers[0])\n",
    "plt.show()"
   ]
  }
 ],
 "metadata": {
  "kernelspec": {
   "display_name": "env",
   "language": "python",
   "name": "python3"
  },
  "language_info": {
   "codemirror_mode": {
    "name": "ipython",
    "version": 3
   },
   "file_extension": ".py",
   "mimetype": "text/x-python",
   "name": "python",
   "nbconvert_exporter": "python",
   "pygments_lexer": "ipython3",
   "version": "3.12.3"
  }
 },
 "nbformat": 4,
 "nbformat_minor": 2
}
